{
 "cells": [
  {
   "cell_type": "markdown",
   "metadata": {},
   "source": [
    "\n",
    "If we aggregate the predictions of a group of predictors (Such a classifiers or regressor)\n",
    "you will often get better predictions than the best individual predictor. \n",
    "A Group of predictor is called an ensemble.\n",
    "thus , this technique is called Ensemble Learning. and an Ensemble Learning algorithm is called Ensemble Method\n",
    "\n",
    "we can train a group of Decision Tree classifier , each on a different random subset of the training set.\n",
    "To make prediction , we just obtain the prediction of all individual trees , then predict the class that gets the most votes\n",
    "Such an ensemble of Decision trees is called a Random Forest and d\n",
    "\n",
    "\n",
    "Ensemble methods work best when the predictors are as Independent from one another as possible. One way to diverse\n",
    "classifiers is to train them using very different algorithms. This increase the chance that they will make very different types of error , imporoving the ensembles accuracy"
   ]
  },
  {
   "cell_type": "code",
   "execution_count": 2,
   "metadata": {},
   "outputs": [
    {
     "data": {
      "text/plain": [
       "VotingClassifier(estimators=[('lr', LogisticRegression(C=1.0, class_weight=None, dual=False, fit_intercept=True,\n",
       "          intercept_scaling=1, max_iter=100, multi_class='ovr', n_jobs=1,\n",
       "          penalty='l2', random_state=None, solver='liblinear', tol=0.0001,\n",
       "          verbose=0, warm_start=False)), ('rf', RandomF...,\n",
       "  max_iter=-1, probability=False, random_state=None, shrinking=True,\n",
       "  tol=0.001, verbose=False))],\n",
       "         flatten_transform=None, n_jobs=1, voting='hard', weights=None)"
      ]
     },
     "execution_count": 2,
     "metadata": {},
     "output_type": "execute_result"
    }
   ],
   "source": [
    "from sklearn.model_selection import train_test_split\n",
    "from sklearn.datasets import make_moons\n",
    "\n",
    "X, y = make_moons(n_samples=500, noise=0.30, random_state=42)\n",
    "X_train, X_test, y_train, y_test = train_test_split(X, y, random_state=42)\n",
    "from sklearn.datasets import make_moons\n",
    "from sklearn.ensemble import RandomForestClassifier\n",
    "from sklearn.ensemble import VotingClassifier\n",
    "from sklearn.linear_model import LogisticRegression\n",
    "from sklearn.svm import SVC\n",
    "\n",
    "log_clf = LogisticRegression()\n",
    "rnd_clf = RandomForestClassifier()\n",
    "svm_clf = SVC()\n",
    "\n",
    "voting_clf = VotingClassifier(estimators=[('lr',log_clf),('rf',rnd_clf),('svc',svm_clf)],voting='hard')\n",
    "voting_clf.fit(X_train,y_train)"
   ]
  },
  {
   "cell_type": "code",
   "execution_count": 3,
   "metadata": {},
   "outputs": [
    {
     "name": "stdout",
     "output_type": "stream",
     "text": [
      "LogisticRegression 0.864\n",
      "RandomForestClassifier 0.88\n",
      "SVC 0.888\n",
      "VotingClassifier 0.896\n"
     ]
    }
   ],
   "source": [
    "from sklearn.metrics import accuracy_score\n",
    "for clf in (log_clf, rnd_clf, svm_clf,voting_clf):\n",
    "    clf.fit(X_train,y_train)\n",
    "    y_pred = clf.predict(X_test)\n",
    "    print(clf.__class__.__name__, accuracy_score(y_test,y_pred))"
   ]
  },
  {
   "cell_type": "code",
   "execution_count": 4,
   "metadata": {},
   "outputs": [
    {
     "data": {
      "text/plain": [
       "VotingClassifier(estimators=[('lr', LogisticRegression(C=1.0, class_weight=None, dual=False, fit_intercept=True,\n",
       "          intercept_scaling=1, max_iter=100, multi_class='ovr', n_jobs=1,\n",
       "          penalty='l2', random_state=42, solver='liblinear', tol=0.0001,\n",
       "          verbose=0, warm_start=False)), ('rf', RandomFor...bf',\n",
       "  max_iter=-1, probability=True, random_state=42, shrinking=True,\n",
       "  tol=0.001, verbose=False))],\n",
       "         flatten_transform=None, n_jobs=1, voting='soft', weights=None)"
      ]
     },
     "execution_count": 4,
     "metadata": {},
     "output_type": "execute_result"
    }
   ],
   "source": [
    "'''\n",
    "If all classifiers are able to estimate class probabilities  then we can tell Scikit-Learn\n",
    " to predict the class with the highest class probablitiy, averaged over all the\n",
    " individual classifiers. This is called soft voting.\n",
    "'''\n",
    "log_clf = LogisticRegression(random_state=42)\n",
    "rnd_clf = RandomForestClassifier(random_state=42)\n",
    "svm_clf = SVC(probability=True, random_state=42)\n",
    "\n",
    "voting_clf = VotingClassifier(\n",
    "    estimators=[('lr', log_clf), ('rf', rnd_clf), ('svc', svm_clf)],\n",
    "    voting='soft')\n",
    "voting_clf.fit(X_train, y_train)"
   ]
  },
  {
   "cell_type": "code",
   "execution_count": 5,
   "metadata": {},
   "outputs": [
    {
     "name": "stdout",
     "output_type": "stream",
     "text": [
      "LogisticRegression 0.864\n",
      "RandomForestClassifier 0.872\n",
      "SVC 0.888\n",
      "VotingClassifier 0.912\n"
     ]
    }
   ],
   "source": [
    "from sklearn.metrics import accuracy_score\n",
    "for clf in (log_clf, rnd_clf, svm_clf,voting_clf):\n",
    "    clf.fit(X_train,y_train)\n",
    "    y_pred = clf.predict(X_test)\n",
    "    print(clf.__class__.__name__, accuracy_score(y_test,y_pred))"
   ]
  },
  {
   "cell_type": "markdown",
   "metadata": {},
   "source": [
    "'''\n",
    "Bagging ant pasting\n",
    "Bagging and pasting allow training instances to be sampled several times across multiple predictors,\n",
    "but only bagging allow training instances to be sampled several times for the same predictor.\n",
    "Once all predictor are trained , the ensemble can make a prediction for a new instance by simply aggregating the predication of all predictors\n",
    "The Aggregation function is typically the statistical mode\n",
    "\n",
    "'''"
   ]
  },
  {
   "cell_type": "code",
   "execution_count": 7,
   "metadata": {},
   "outputs": [],
   "source": [
    "#The following code trains an ensemble of 500 decision Tree classifiers each trained on 100 training instance randomly sampled from the training set with replacement(this is example of bagging but if want to use pasting instead , just set bootstrap= False).\n",
    "#The n_jobs parameter tells Scikit learn the number of CPU cores to use for training and prediction(-1 tells Scikit-Learn to use all available cores)\n",
    "from sklearn.ensemble import BaggingClassifier\n",
    "from sklearn.tree import DecisionTreeClassifier\n",
    "\n",
    "bag_clf = BaggingClassifier(\n",
    "          DecisionTreeClassifier(),n_estimators=500,\n",
    "          max_samples=100,bootstrap=True, n_jobs=-1,random_state=42\n",
    "          )\n",
    "bag_clf.fit(X_train,y_train)\n",
    "y_pred = bag_clf.predict(X_test)"
   ]
  },
  {
   "cell_type": "code",
   "execution_count": 8,
   "metadata": {},
   "outputs": [
    {
     "name": "stdout",
     "output_type": "stream",
     "text": [
      "0.904\n"
     ]
    }
   ],
   "source": [
    "print(accuracy_score(y_test,y_pred))"
   ]
  },
  {
   "cell_type": "code",
   "execution_count": 9,
   "metadata": {},
   "outputs": [
    {
     "name": "stdout",
     "output_type": "stream",
     "text": [
      "0.856\n"
     ]
    }
   ],
   "source": [
    "tree_clf = DecisionTreeClassifier(random_state=42)\n",
    "tree_clf.fit(X_train, y_train)\n",
    "y_pred_tree = tree_clf.predict(X_test)\n",
    "print(accuracy_score(y_test, y_pred_tree))"
   ]
  },
  {
   "cell_type": "code",
   "execution_count": 10,
   "metadata": {},
   "outputs": [],
   "source": [
    "# Where to save the figures\n",
    "# PROJECT_ROOT_DIR = \".\"\n",
    "# CHAPTER_ID = \"ensembles\"\n",
    "# def image_path(fig_id):\n",
    "#     return os.path.join(PROJECT_ROOT_DIR, \"images\", CHAPTER_ID, fig_id)\n",
    "# def save_fig(fig_id, tight_layout=True):\n",
    "#     print(\"Saving figure\", fig_id)\n",
    "#     if tight_layout:\n",
    "#         plt.tight_layout()\n",
    "#     plt.savefig(image_path(fig_id) + \".png\", format='png', dpi=300)"
   ]
  },
  {
   "cell_type": "code",
   "execution_count": 11,
   "metadata": {},
   "outputs": [],
   "source": [
    "# Common imports\n",
    "import numpy as np\n",
    "import os\n",
    "# To plot pretty figures\n",
    "%matplotlib inline\n",
    "import matplotlib\n",
    "import matplotlib.pyplot as plt\n",
    "\n",
    "from matplotlib.colors import ListedColormap\n",
    "def plot_decision_boundary(clf, X,y, axes=[-1.5,2.5,-1,1.5],alpha=0.5,contour=True):\n",
    "    x1s = np.linspace(axes[0],axes[1],100)\n",
    "    x2s = np.linspace(axes[2],axes[2],100)\n",
    "    x1, x2 = np.meshgrid(x1s,x2s)\n",
    "    X_new = np.c_[x1.ravel(),x2.ravel()]\n",
    "    y_pred = clf.predict(X_new).reshape(x1.shape)\n",
    "    custom_cmap = ListedColormap(['#fafab0','#9898ff','#a0faa0'])\n",
    "    plt.contourf(x1,x2,y_pred,alpha=0.3,cmap=custom_cmap,linewidth=10)\n",
    "    if contour:\n",
    "        custom_cmap2 = ListedColormap(['#7d7d58','#4c4c7f','#507d50'])\n",
    "        plt.contour(x1,x2,y_pred,cmap=custom_cmap,alpha=0.8)\n",
    "    plt.plot(X[:, 0][y==0], X[:, 1][y==0], \"yo\",alpha=alpha)\n",
    "    plt.plot(X[:,0][y==1],X[:,1][y==1],\"bs\",alpha=alpha)\n",
    "    plt.axis(axes)\n",
    "    plt.xlabel(r\"$x_1$\", fontsize = 18)\n",
    "    plt.ylabel(r\"$x_2$\",fontsize=18,rotation=0)"
   ]
  },
  {
   "cell_type": "code",
   "execution_count": 12,
   "metadata": {},
   "outputs": [
    {
     "name": "stderr",
     "output_type": "stream",
     "text": [
      "/Users/bitjedi/ml/env/lib/python3.5/site-packages/matplotlib/contour.py:967: UserWarning: The following kwargs were not used by contour: 'linewidth'\n",
      "  s)\n"
     ]
    },
    {
     "data": {
      "image/png": "[encoded data removed]",
      "text/plain": [
       "<matplotlib.figure.Figure at 0x10b4662b0>"
      ]
     },
     "metadata": {},
     "output_type": "display_data"
    }
   ],
   "source": [
    "plt.figure(figsize=(11,4))\n",
    "plt.subplot(121)\n",
    "plot_decision_boundary(tree_clf,X,y)\n",
    "plt.title(\"Decision Tree\",fontsize=14)\n",
    "plt.subplot(122)\n",
    "plot_decision_boundary(bag_clf,X,y)\n",
    "plt.title(\"Decision Trees with Bagging\",fontsize = 14)\n",
    "# save_fig(\"decision_tree_without_and_with_bagging_plot\")\n",
    "plt.show()"
   ]
  },
  {
   "cell_type": "code",
   "execution_count": 15,
   "metadata": {},
   "outputs": [
    {
     "data": {
      "text/plain": [
       "0.89866666666666661"
      ]
     },
     "execution_count": 15,
     "metadata": {},
     "output_type": "execute_result"
    }
   ],
   "source": [
    "#Using out of bag which is around 36% of data for the validation\n",
    "\n",
    "bag_clf = BaggingClassifier(DecisionTreeClassifier(), n_estimators=500,bootstrap=True,n_jobs=-1,oob_score=True)\n",
    "bag_clf.fit(X_train,y_train)\n",
    "bag_clf.oob_score_"
   ]
  },
  {
   "cell_type": "code",
   "execution_count": 16,
   "metadata": {},
   "outputs": [
    {
     "data": {
      "text/plain": [
       "0.90400000000000003"
      ]
     },
     "execution_count": 16,
     "metadata": {},
     "output_type": "execute_result"
    }
   ],
   "source": [
    "from sklearn.metrics import accuracy_score\n",
    "y_pred = bag_clf.predict(X_test)\n",
    "accuracy_score(y_test,y_pred)"
   ]
  },
  {
   "cell_type": "code",
   "execution_count": 19,
   "metadata": {},
   "outputs": [
    {
     "data": {
      "text/plain": [
       "array([[ 0.37222222,  0.62777778],\n",
       "       [ 0.44919786,  0.55080214],\n",
       "       [ 1.        ,  0.        ],\n",
       "       [ 0.        ,  1.        ],\n",
       "       [ 0.00571429,  0.99428571],\n",
       "       [ 0.11351351,  0.88648649],\n",
       "       [ 0.37837838,  0.62162162],\n",
       "       [ 0.015     ,  0.985     ],\n",
       "       [ 0.98369565,  0.01630435],\n",
       "       [ 0.96256684,  0.03743316],\n",
       "       [ 0.8       ,  0.2       ],\n",
       "       [ 0.00632911,  0.99367089],\n",
       "       [ 0.6984127 ,  0.3015873 ],\n",
       "       [ 0.84      ,  0.16      ],\n",
       "       [ 0.96391753,  0.03608247],\n",
       "       [ 0.06060606,  0.93939394],\n",
       "       [ 0.        ,  1.        ],\n",
       "       [ 1.        ,  0.        ],\n",
       "       [ 0.94505495,  0.05494505],\n",
       "       [ 0.9939759 ,  0.0060241 ],\n",
       "       [ 0.01123596,  0.98876404],\n",
       "       [ 0.33157895,  0.66842105],\n",
       "       [ 0.91709845,  0.08290155],\n",
       "       [ 1.        ,  0.        ],\n",
       "       [ 0.98930481,  0.01069519],\n",
       "       [ 0.        ,  1.        ],\n",
       "       [ 1.        ,  0.        ],\n",
       "       [ 1.        ,  0.        ],\n",
       "       [ 0.        ,  1.        ],\n",
       "       [ 0.64130435,  0.35869565],\n",
       "       [ 0.        ,  1.        ],\n",
       "       [ 1.        ,  0.        ],\n",
       "       [ 0.        ,  1.        ],\n",
       "       [ 0.        ,  1.        ],\n",
       "       [ 0.1627907 ,  0.8372093 ],\n",
       "       [ 1.        ,  0.        ],\n",
       "       [ 0.        ,  1.        ],\n",
       "       [ 0.35638298,  0.64361702],\n",
       "       [ 0.        ,  1.        ],\n",
       "       [ 1.        ,  0.        ],\n",
       "       [ 0.2287234 ,  0.7712766 ],\n",
       "       [ 0.34302326,  0.65697674],\n",
       "       [ 1.        ,  0.        ],\n",
       "       [ 1.        ,  0.        ],\n",
       "       [ 0.        ,  1.        ],\n",
       "       [ 1.        ,  0.        ],\n",
       "       [ 1.        ,  0.        ],\n",
       "       [ 0.02808989,  0.97191011],\n",
       "       [ 1.        ,  0.        ],\n",
       "       [ 0.00518135,  0.99481865],\n",
       "       [ 0.97354497,  0.02645503],\n",
       "       [ 0.89714286,  0.10285714],\n",
       "       [ 0.96721311,  0.03278689],\n",
       "       [ 0.98979592,  0.01020408],\n",
       "       [ 0.        ,  1.        ],\n",
       "       [ 0.06077348,  0.93922652],\n",
       "       [ 1.        ,  0.        ],\n",
       "       [ 0.00571429,  0.99428571],\n",
       "       [ 0.        ,  1.        ],\n",
       "       [ 0.        ,  1.        ],\n",
       "       [ 1.        ,  0.        ],\n",
       "       [ 0.77386935,  0.22613065],\n",
       "       [ 0.39130435,  0.60869565],\n",
       "       [ 1.        ,  0.        ],\n",
       "       [ 0.        ,  1.        ],\n",
       "       [ 0.71511628,  0.28488372],\n",
       "       [ 1.        ,  0.        ],\n",
       "       [ 1.        ,  0.        ],\n",
       "       [ 0.86075949,  0.13924051],\n",
       "       [ 1.        ,  0.        ],\n",
       "       [ 0.67179487,  0.32820513],\n",
       "       [ 0.08196721,  0.91803279],\n",
       "       [ 0.63841808,  0.36158192],\n",
       "       [ 0.9       ,  0.1       ],\n",
       "       [ 0.        ,  1.        ],\n",
       "       [ 0.17058824,  0.82941176],\n",
       "       [ 0.91044776,  0.08955224],\n",
       "       [ 1.        ,  0.        ],\n",
       "       [ 0.        ,  1.        ],\n",
       "       [ 1.        ,  0.        ],\n",
       "       [ 0.        ,  1.        ],\n",
       "       [ 0.03763441,  0.96236559],\n",
       "       [ 0.04519774,  0.95480226],\n",
       "       [ 0.38235294,  0.61764706],\n",
       "       [ 1.        ,  0.        ],\n",
       "       [ 0.        ,  1.        ],\n",
       "       [ 0.87113402,  0.12886598],\n",
       "       [ 0.        ,  1.        ],\n",
       "       [ 0.        ,  1.        ],\n",
       "       [ 0.        ,  1.        ],\n",
       "       [ 0.26344086,  0.73655914],\n",
       "       [ 1.        ,  0.        ],\n",
       "       [ 0.        ,  1.        ],\n",
       "       [ 0.00510204,  0.99489796],\n",
       "       [ 0.        ,  1.        ],\n",
       "       [ 0.93048128,  0.06951872],\n",
       "       [ 0.81767956,  0.18232044],\n",
       "       [ 0.        ,  1.        ],\n",
       "       [ 1.        ,  0.        ],\n",
       "       [ 0.20652174,  0.79347826],\n",
       "       [ 0.6373057 ,  0.3626943 ],\n",
       "       [ 0.        ,  1.        ],\n",
       "       [ 0.03296703,  0.96703297],\n",
       "       [ 0.48648649,  0.51351351],\n",
       "       [ 0.99514563,  0.00485437],\n",
       "       [ 0.01785714,  0.98214286],\n",
       "       [ 0.99492386,  0.00507614],\n",
       "       [ 0.27325581,  0.72674419],\n",
       "       [ 0.51497006,  0.48502994],\n",
       "       [ 1.        ,  0.        ],\n",
       "       [ 0.00606061,  0.99393939],\n",
       "       [ 0.98412698,  0.01587302],\n",
       "       [ 0.28323699,  0.71676301],\n",
       "       [ 0.92090395,  0.07909605],\n",
       "       [ 1.        ,  0.        ],\n",
       "       [ 1.        ,  0.        ],\n",
       "       [ 0.        ,  1.        ],\n",
       "       [ 0.        ,  1.        ],\n",
       "       [ 0.82702703,  0.17297297],\n",
       "       [ 1.        ,  0.        ],\n",
       "       [ 0.01578947,  0.98421053],\n",
       "       [ 1.        ,  0.        ],\n",
       "       [ 0.99492386,  0.00507614],\n",
       "       [ 1.        ,  0.        ],\n",
       "       [ 0.99428571,  0.00571429],\n",
       "       [ 1.        ,  0.        ],\n",
       "       [ 0.        ,  1.        ],\n",
       "       [ 0.96315789,  0.03684211],\n",
       "       [ 0.99447514,  0.00552486],\n",
       "       [ 0.01764706,  0.98235294],\n",
       "       [ 0.19796954,  0.80203046],\n",
       "       [ 0.97206704,  0.02793296],\n",
       "       [ 0.2393617 ,  0.7606383 ],\n",
       "       [ 0.98969072,  0.01030928],\n",
       "       [ 0.        ,  1.        ],\n",
       "       [ 0.        ,  1.        ],\n",
       "       [ 0.66321244,  0.33678756],\n",
       "       [ 0.42553191,  0.57446809],\n",
       "       [ 0.42076503,  0.57923497],\n",
       "       [ 0.85714286,  0.14285714],\n",
       "       [ 0.91860465,  0.08139535],\n",
       "       [ 0.06779661,  0.93220339],\n",
       "       [ 0.78350515,  0.21649485],\n",
       "       [ 0.00564972,  0.99435028],\n",
       "       [ 0.        ,  1.        ],\n",
       "       [ 0.01041667,  0.98958333],\n",
       "       [ 0.99487179,  0.00512821],\n",
       "       [ 1.        ,  0.        ],\n",
       "       [ 1.        ,  0.        ],\n",
       "       [ 0.        ,  1.        ],\n",
       "       [ 0.        ,  1.        ],\n",
       "       [ 0.01092896,  0.98907104],\n",
       "       [ 0.015     ,  0.985     ],\n",
       "       [ 1.        ,  0.        ],\n",
       "       [ 1.        ,  0.        ],\n",
       "       [ 0.95333333,  0.04666667],\n",
       "       [ 1.        ,  0.        ],\n",
       "       [ 1.        ,  0.        ],\n",
       "       [ 1.        ,  0.        ],\n",
       "       [ 0.        ,  1.        ],\n",
       "       [ 0.43478261,  0.56521739],\n",
       "       [ 0.30857143,  0.69142857],\n",
       "       [ 0.00613497,  0.99386503],\n",
       "       [ 0.        ,  1.        ],\n",
       "       [ 0.33742331,  0.66257669],\n",
       "       [ 1.        ,  0.        ],\n",
       "       [ 1.        ,  0.        ],\n",
       "       [ 0.        ,  1.        ],\n",
       "       [ 1.        ,  0.        ],\n",
       "       [ 0.00549451,  0.99450549],\n",
       "       [ 0.        ,  1.        ],\n",
       "       [ 0.96482412,  0.03517588],\n",
       "       [ 0.        ,  1.        ],\n",
       "       [ 0.        ,  1.        ],\n",
       "       [ 1.        ,  0.        ],\n",
       "       [ 0.00571429,  0.99428571],\n",
       "       [ 0.70053476,  0.29946524],\n",
       "       [ 0.87755102,  0.12244898],\n",
       "       [ 0.        ,  1.        ],\n",
       "       [ 1.        ,  0.        ],\n",
       "       [ 1.        ,  0.        ],\n",
       "       [ 1.        ,  0.        ],\n",
       "       [ 0.        ,  1.        ],\n",
       "       [ 0.        ,  1.        ],\n",
       "       [ 1.        ,  0.        ],\n",
       "       [ 0.10471204,  0.89528796],\n",
       "       [ 1.        ,  0.        ],\n",
       "       [ 0.01694915,  0.98305085],\n",
       "       [ 0.        ,  1.        ],\n",
       "       [ 1.        ,  0.        ],\n",
       "       [ 0.        ,  1.        ],\n",
       "       [ 0.07222222,  0.92777778],\n",
       "       [ 1.        ,  0.        ],\n",
       "       [ 0.92397661,  0.07602339],\n",
       "       [ 0.72189349,  0.27810651],\n",
       "       [ 0.48969072,  0.51030928],\n",
       "       [ 0.        ,  1.        ],\n",
       "       [ 0.17127072,  0.82872928],\n",
       "       [ 1.        ,  0.        ],\n",
       "       [ 0.96923077,  0.03076923],\n",
       "       [ 0.98333333,  0.01666667],\n",
       "       [ 1.        ,  0.        ],\n",
       "       [ 0.00595238,  0.99404762],\n",
       "       [ 0.        ,  1.        ],\n",
       "       [ 0.44444444,  0.55555556],\n",
       "       [ 0.88297872,  0.11702128],\n",
       "       [ 0.        ,  1.        ],\n",
       "       [ 0.        ,  1.        ],\n",
       "       [ 1.        ,  0.        ],\n",
       "       [ 0.01530612,  0.98469388],\n",
       "       [ 0.        ,  1.        ],\n",
       "       [ 0.96721311,  0.03278689],\n",
       "       [ 0.        ,  1.        ],\n",
       "       [ 0.19512195,  0.80487805],\n",
       "       [ 0.        ,  1.        ],\n",
       "       [ 1.        ,  0.        ],\n",
       "       [ 0.        ,  1.        ],\n",
       "       [ 0.        ,  1.        ],\n",
       "       [ 0.97674419,  0.02325581],\n",
       "       [ 0.87283237,  0.12716763],\n",
       "       [ 0.99492386,  0.00507614],\n",
       "       [ 0.        ,  1.        ],\n",
       "       [ 0.125     ,  0.875     ],\n",
       "       [ 0.98924731,  0.01075269],\n",
       "       [ 0.02808989,  0.97191011],\n",
       "       [ 0.        ,  1.        ],\n",
       "       [ 0.02747253,  0.97252747],\n",
       "       [ 1.        ,  0.        ],\n",
       "       [ 0.795     ,  0.205     ],\n",
       "       [ 0.        ,  1.        ],\n",
       "       [ 0.91803279,  0.08196721],\n",
       "       [ 0.99447514,  0.00552486],\n",
       "       [ 0.23684211,  0.76315789],\n",
       "       [ 0.27173913,  0.72826087],\n",
       "       [ 1.        ,  0.        ],\n",
       "       [ 0.        ,  1.        ],\n",
       "       [ 0.        ,  1.        ],\n",
       "       [ 0.        ,  1.        ],\n",
       "       [ 0.25520833,  0.74479167],\n",
       "       [ 0.9742268 ,  0.0257732 ],\n",
       "       [ 0.0049505 ,  0.9950495 ],\n",
       "       [ 1.        ,  0.        ],\n",
       "       [ 1.        ,  0.        ],\n",
       "       [ 0.        ,  1.        ],\n",
       "       [ 0.5       ,  0.5       ],\n",
       "       [ 1.        ,  0.        ],\n",
       "       [ 0.00510204,  0.99489796],\n",
       "       [ 1.        ,  0.        ],\n",
       "       [ 0.00537634,  0.99462366],\n",
       "       [ 0.        ,  1.        ],\n",
       "       [ 0.09793814,  0.90206186],\n",
       "       [ 0.13186813,  0.86813187],\n",
       "       [ 0.98870056,  0.01129944],\n",
       "       [ 0.01578947,  0.98421053],\n",
       "       [ 1.        ,  0.        ],\n",
       "       [ 0.4       ,  0.6       ],\n",
       "       [ 0.10843373,  0.89156627],\n",
       "       [ 0.48351648,  0.51648352],\n",
       "       [ 0.57487923,  0.42512077],\n",
       "       [ 0.        ,  1.        ],\n",
       "       [ 1.        ,  0.        ],\n",
       "       [ 0.        ,  1.        ],\n",
       "       [ 0.        ,  1.        ],\n",
       "       [ 0.65591398,  0.34408602],\n",
       "       [ 0.        ,  1.        ],\n",
       "       [ 1.        ,  0.        ],\n",
       "       [ 0.19905213,  0.80094787],\n",
       "       [ 0.83139535,  0.16860465],\n",
       "       [ 0.07303371,  0.92696629],\n",
       "       [ 1.        ,  0.        ],\n",
       "       [ 0.8556701 ,  0.1443299 ],\n",
       "       [ 0.        ,  1.        ],\n",
       "       [ 0.00995025,  0.99004975],\n",
       "       [ 0.12244898,  0.87755102],\n",
       "       [ 0.04519774,  0.95480226],\n",
       "       [ 0.        ,  1.        ],\n",
       "       [ 1.        ,  0.        ],\n",
       "       [ 0.89119171,  0.10880829],\n",
       "       [ 0.1734104 ,  0.8265896 ],\n",
       "       [ 0.97191011,  0.02808989],\n",
       "       [ 0.00546448,  0.99453552],\n",
       "       [ 0.5819209 ,  0.4180791 ],\n",
       "       [ 0.1147541 ,  0.8852459 ],\n",
       "       [ 0.99444444,  0.00555556],\n",
       "       [ 0.8       ,  0.2       ],\n",
       "       [ 0.        ,  1.        ],\n",
       "       [ 0.99441341,  0.00558659],\n",
       "       [ 0.95530726,  0.04469274],\n",
       "       [ 0.        ,  1.        ],\n",
       "       [ 0.        ,  1.        ],\n",
       "       [ 1.        ,  0.        ],\n",
       "       [ 0.        ,  1.        ],\n",
       "       [ 1.        ,  0.        ],\n",
       "       [ 0.21978022,  0.78021978],\n",
       "       [ 1.        ,  0.        ],\n",
       "       [ 1.        ,  0.        ],\n",
       "       [ 0.        ,  1.        ],\n",
       "       [ 0.00520833,  0.99479167],\n",
       "       [ 0.88108108,  0.11891892],\n",
       "       [ 0.        ,  1.        ],\n",
       "       [ 1.        ,  0.        ],\n",
       "       [ 0.77272727,  0.22727273],\n",
       "       [ 0.94350282,  0.05649718],\n",
       "       [ 1.        ,  0.        ],\n",
       "       [ 0.64      ,  0.36      ],\n",
       "       [ 0.5786802 ,  0.4213198 ],\n",
       "       [ 0.        ,  1.        ],\n",
       "       [ 0.86813187,  0.13186813],\n",
       "       [ 0.        ,  1.        ],\n",
       "       [ 1.        ,  0.        ],\n",
       "       [ 0.84530387,  0.15469613],\n",
       "       [ 1.        ,  0.        ],\n",
       "       [ 1.        ,  0.        ],\n",
       "       [ 0.74301676,  0.25698324],\n",
       "       [ 0.11176471,  0.88823529],\n",
       "       [ 0.4127907 ,  0.5872093 ],\n",
       "       [ 0.27604167,  0.72395833],\n",
       "       [ 0.        ,  1.        ],\n",
       "       [ 0.87046632,  0.12953368],\n",
       "       [ 0.81122449,  0.18877551],\n",
       "       [ 0.00502513,  0.99497487],\n",
       "       [ 1.        ,  0.        ],\n",
       "       [ 0.9895288 ,  0.0104712 ],\n",
       "       [ 1.        ,  0.        ],\n",
       "       [ 0.        ,  1.        ],\n",
       "       [ 0.03684211,  0.96315789],\n",
       "       [ 0.96551724,  0.03448276],\n",
       "       [ 0.95      ,  0.05      ],\n",
       "       [ 1.        ,  0.        ],\n",
       "       [ 0.50970874,  0.49029126],\n",
       "       [ 1.        ,  0.        ],\n",
       "       [ 0.        ,  1.        ],\n",
       "       [ 0.99459459,  0.00540541],\n",
       "       [ 0.03703704,  0.96296296],\n",
       "       [ 1.        ,  0.        ],\n",
       "       [ 1.        ,  0.        ],\n",
       "       [ 1.        ,  0.        ],\n",
       "       [ 0.        ,  1.        ],\n",
       "       [ 0.96059113,  0.03940887],\n",
       "       [ 0.        ,  1.        ],\n",
       "       [ 0.07978723,  0.92021277],\n",
       "       [ 0.        ,  1.        ],\n",
       "       [ 0.        ,  1.        ],\n",
       "       [ 1.        ,  0.        ],\n",
       "       [ 1.        ,  0.        ],\n",
       "       [ 0.        ,  1.        ],\n",
       "       [ 0.98901099,  0.01098901],\n",
       "       [ 0.01685393,  0.98314607],\n",
       "       [ 1.        ,  0.        ],\n",
       "       [ 0.13793103,  0.86206897],\n",
       "       [ 0.        ,  1.        ],\n",
       "       [ 0.00555556,  0.99444444],\n",
       "       [ 0.        ,  1.        ],\n",
       "       [ 0.39325843,  0.60674157],\n",
       "       [ 0.08839779,  0.91160221],\n",
       "       [ 0.23626374,  0.76373626],\n",
       "       [ 1.        ,  0.        ],\n",
       "       [ 1.        ,  0.        ],\n",
       "       [ 0.19230769,  0.80769231],\n",
       "       [ 0.98863636,  0.01136364],\n",
       "       [ 0.        ,  1.        ],\n",
       "       [ 0.        ,  1.        ],\n",
       "       [ 1.        ,  0.        ],\n",
       "       [ 0.95959596,  0.04040404],\n",
       "       [ 0.36612022,  0.63387978],\n",
       "       [ 0.99408284,  0.00591716],\n",
       "       [ 1.        ,  0.        ],\n",
       "       [ 0.        ,  1.        ],\n",
       "       [ 1.        ,  0.        ],\n",
       "       [ 0.        ,  1.        ],\n",
       "       [ 0.03797468,  0.96202532],\n",
       "       [ 1.        ,  0.        ],\n",
       "       [ 1.        ,  0.        ],\n",
       "       [ 0.02890173,  0.97109827],\n",
       "       [ 0.60427807,  0.39572193]])"
      ]
     },
     "execution_count": 19,
     "metadata": {},
     "output_type": "execute_result"
    }
   ],
   "source": [
    "#The oob decision function for each training instance is also available throufh the oob_decision_function_ variable.. In theis case (since the base estimator has a predict_proba() method)\n",
    "#the decision function returns the class probablities for each training instance. For example , the oob evaluation estimates that the second training has 44 % probablity of belonging to the positive class.\n",
    "\n",
    "bag_clf.oob_decision_function_"
   ]
  },
  {
   "cell_type": "code",
   "execution_count": 20,
   "metadata": {},
   "outputs": [],
   "source": [
    "from sklearn.ensemble import RandomForestClassifier\n",
    "rnd_clf = RandomForestClassifier(n_estimators=500,max_leaf_nodes=16,n_jobs=-1)\n",
    "rnd_clf.fit(X_train,y_train)\n",
    "y_pred_rf = rnd_clf.predict(X_test)"
   ]
  },
  {
   "cell_type": "code",
   "execution_count": 23,
   "metadata": {},
   "outputs": [
    {
     "name": "stdout",
     "output_type": "stream",
     "text": [
      "sepal length (cm) 0.0902817936006\n",
      "sepal width (cm) 0.0226031205728\n",
      "petal length (cm) 0.411539982604\n",
      "petal width (cm) 0.475575103223\n"
     ]
    }
   ],
   "source": [
    "#Feature Importance \n",
    "#Random Forests are very handy to get a quick understanding of what features\n",
    "#actually matter,in particular if you need to perform feature selection...\n",
    "from sklearn.datasets import load_iris\n",
    "iris = load_iris()\n",
    "rnd_clf = RandomForestClassifier(n_estimators=500, n_jobs = -1)\n",
    "rnd_clf.fit(iris[\"data\"],iris[\"target\"])\n",
    "\n",
    "for name, score in zip(iris[\"feature_names\"],rnd_clf.feature_importances_):\n",
    "    print(name, score)\n"
   ]
  },
  {
   "cell_type": "code",
   "execution_count": null,
   "metadata": {},
   "outputs": [],
   "source": []
  }
 ],
 "metadata": {
  "kernelspec": {
   "display_name": "Python 3",
   "language": "python",
   "name": "python3"
  },
  "language_info": {
   "codemirror_mode": {
    "name": "ipython",
    "version": 3
   },
   "file_extension": ".py",
   "mimetype": "text/x-python",
   "name": "python",
   "nbconvert_exporter": "python",
   "pygments_lexer": "ipython3",
   "version": "3.5.4"
  }
 },
 "nbformat": 4,
 "nbformat_minor": 2
}
